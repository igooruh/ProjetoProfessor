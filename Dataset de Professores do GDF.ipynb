{
 "cells": [
  {
   "cell_type": "markdown",
   "metadata": {},
   "source": [
    "# Apresentação dos Dados"
   ]
  },
  {
   "cell_type": "markdown",
   "metadata": {},
   "source": [
    "Este com conjunto de dados foi coletado do Portal da Transparência do Distrito Federal, o qual pode ser obtido no link a seguir <a href = 'http://www.transparencia.df.gov.br/#/servidores/orgao'>Portal da Transparência</a>.\n",
    "<br>\n",
    "Com dados dispostos neste dataset realizarei insights acerca do quadro de professores da rede pública que estão ativos. "
   ]
  },
  {
   "cell_type": "markdown",
   "metadata": {},
   "source": [
    " "
   ]
  },
  {
   "cell_type": "markdown",
   "metadata": {},
   "source": [
    " "
   ]
  },
  {
   "cell_type": "code",
   "execution_count": 1,
   "metadata": {
    "collapsed": true
   },
   "outputs": [],
   "source": [
    "# Celula para importação de bibliotecas\n",
    "% matplotlib inline\n",
    "import pandas as pd\n",
    "import numpy as np\n",
    "import matplotlib.pyplot as plt\n",
    "import colorsys\n",
    "import seaborn as sns\n",
    "plt.style.use ('seaborn-talk') # O estilo adiciona cores e padrões diferentes para diferenciar os grâficos."
   ]
  },
  {
   "cell_type": "code",
   "execution_count": 2,
   "metadata": {
    "collapsed": true
   },
   "outputs": [],
   "source": [
    "# Lendo arquivo csv\n",
    "professor = pd.read_csv ('Professores.csv', encoding='UTF-8', delimiter = ';')\n",
    "# encoding é a codificação para ler/escrever no padrão UTF (UTF-8)"
   ]
  },
  {
   "cell_type": "code",
   "execution_count": 3,
   "metadata": {
    "collapsed": true
   },
   "outputs": [],
   "source": [
    "# Criando DataFrame\n",
    "df_professor = pd.DataFrame (professor)"
   ]
  },
  {
   "cell_type": "code",
   "execution_count": 4,
   "metadata": {},
   "outputs": [
    {
     "data": {
      "text/html": [
       "<div>\n",
       "<style>\n",
       "    .dataframe thead tr:only-child th {\n",
       "        text-align: right;\n",
       "    }\n",
       "\n",
       "    .dataframe thead th {\n",
       "        text-align: left;\n",
       "    }\n",
       "\n",
       "    .dataframe tbody tr th {\n",
       "        vertical-align: top;\n",
       "    }\n",
       "</style>\n",
       "<table border=\"1\" class=\"dataframe\">\n",
       "  <thead>\n",
       "    <tr style=\"text-align: right;\">\n",
       "      <th></th>\n",
       "      <th>Nome</th>\n",
       "      <th>Orgao</th>\n",
       "      <th>Cargo</th>\n",
       "      <th>Funcao</th>\n",
       "      <th>Situacao</th>\n",
       "      <th>Carreira</th>\n",
       "      <th>Lotacao</th>\n",
       "      <th>Data de Admissao</th>\n",
       "      <th>Matricula</th>\n",
       "      <th>Status</th>\n",
       "      <th>Regime</th>\n",
       "      <th>Situacao Funcional</th>\n",
       "    </tr>\n",
       "  </thead>\n",
       "  <tbody>\n",
       "    <tr>\n",
       "      <th>0</th>\n",
       "      <td>ADRIANA ARAUJO DE SANTANA MARQUES DA SILVA</td>\n",
       "      <td>SECRETARIA DE ESTADO DE EDUCACAO</td>\n",
       "      <td>PROFESSOR DE EDUC. BASICA</td>\n",
       "      <td>PROFESSOR</td>\n",
       "      <td>ATIVO</td>\n",
       "      <td>MAGISTERIO PUBLICO DO DF</td>\n",
       "      <td>CENTRO INTERESCOLAR DE LINGUAS 02 DE BRASILIA</td>\n",
       "      <td>24/03/2003</td>\n",
       "      <td>20030324</td>\n",
       "      <td>NORMAL</td>\n",
       "      <td>ESTATUTARIO</td>\n",
       "      <td>MAGISTERIO (PROFESSOR)</td>\n",
       "    </tr>\n",
       "    <tr>\n",
       "      <th>1</th>\n",
       "      <td>ALCIDEA VIEIRA COELHO</td>\n",
       "      <td>SECRETARIA DE ESTADO DE EDUCACAO</td>\n",
       "      <td>PROFESSOR DE EDUC. BASICA</td>\n",
       "      <td>PROFESSOR</td>\n",
       "      <td>ATIVO</td>\n",
       "      <td>MAGISTERIO PUBLICO DO DF</td>\n",
       "      <td>CONVENIO IHGDF</td>\n",
       "      <td>13/01/1993</td>\n",
       "      <td>19930113</td>\n",
       "      <td>NORMAL</td>\n",
       "      <td>ESTATUTARIO</td>\n",
       "      <td>MAGISTERIO (PROFESSOR)</td>\n",
       "    </tr>\n",
       "    <tr>\n",
       "      <th>2</th>\n",
       "      <td>ANDRESSA CARNEIRO LOPES</td>\n",
       "      <td>SECRETARIA DE ESTADO DE EDUCACAO</td>\n",
       "      <td>PROFESSOR DE EDUC. BASICA</td>\n",
       "      <td>PROFESSOR</td>\n",
       "      <td>ATIVO</td>\n",
       "      <td>MAGISTERIO PUBLICO DO DF</td>\n",
       "      <td>ESCOLA CLASSE 416 SUL</td>\n",
       "      <td>08/10/1996</td>\n",
       "      <td>19961008</td>\n",
       "      <td>NORMAL</td>\n",
       "      <td>ESTATUTARIO</td>\n",
       "      <td>MAGISTERIO (PROFESSOR)</td>\n",
       "    </tr>\n",
       "    <tr>\n",
       "      <th>3</th>\n",
       "      <td>CELIA MEDEIROS SCHNEIDER</td>\n",
       "      <td>SECRETARIA DE ESTADO DE EDUCACAO</td>\n",
       "      <td>PROFESSOR DE EDUC. BASICA</td>\n",
       "      <td>PROFESSOR</td>\n",
       "      <td>ATIVO</td>\n",
       "      <td>MAGISTERIO PUBLICO DO DF</td>\n",
       "      <td>ESCOLA CLASSE 01 DO RIACHO FUNDO</td>\n",
       "      <td>14/04/1992</td>\n",
       "      <td>19920414</td>\n",
       "      <td>NORMAL</td>\n",
       "      <td>ESTATUTARIO</td>\n",
       "      <td>MAGISTERIO (PROFESSOR)</td>\n",
       "    </tr>\n",
       "    <tr>\n",
       "      <th>4</th>\n",
       "      <td>CIBELY FARIA</td>\n",
       "      <td>SECRETARIA DE ESTADO DE EDUCACAO</td>\n",
       "      <td>PROFESSOR DE EDUC. BASICA</td>\n",
       "      <td>PROFESSOR</td>\n",
       "      <td>ATIVO</td>\n",
       "      <td>MAGISTERIO PUBLICO DO DF</td>\n",
       "      <td>ESCOLA CLASSE 62 DE CEILANDIA</td>\n",
       "      <td>06/02/2007</td>\n",
       "      <td>20070206</td>\n",
       "      <td>NORMAL</td>\n",
       "      <td>ESTATUTARIO</td>\n",
       "      <td>MAGISTERIO (PROFESSOR)</td>\n",
       "    </tr>\n",
       "  </tbody>\n",
       "</table>\n",
       "</div>"
      ],
      "text/plain": [
       "                                           Nome  \\\n",
       "0   ADRIANA ARAUJO DE SANTANA MARQUES DA SILVA    \n",
       "1                        ALCIDEA VIEIRA COELHO    \n",
       "2                     ANDRESSA CARNEIRO LOPES     \n",
       "3                     CELIA MEDEIROS SCHNEIDER    \n",
       "4                                 CIBELY FARIA    \n",
       "\n",
       "                              Orgao                        Cargo     Funcao  \\\n",
       "0  SECRETARIA DE ESTADO DE EDUCACAO  PROFESSOR DE EDUC. BASICA    PROFESSOR   \n",
       "1  SECRETARIA DE ESTADO DE EDUCACAO  PROFESSOR DE EDUC. BASICA    PROFESSOR   \n",
       "2  SECRETARIA DE ESTADO DE EDUCACAO  PROFESSOR DE EDUC. BASICA    PROFESSOR   \n",
       "3  SECRETARIA DE ESTADO DE EDUCACAO  PROFESSOR DE EDUC. BASICA    PROFESSOR   \n",
       "4  SECRETARIA DE ESTADO DE EDUCACAO  PROFESSOR DE EDUC. BASICA    PROFESSOR   \n",
       "\n",
       "  Situacao                    Carreira  \\\n",
       "0  ATIVO    MAGISTERIO PUBLICO DO DF     \n",
       "1  ATIVO    MAGISTERIO PUBLICO DO DF     \n",
       "2  ATIVO    MAGISTERIO PUBLICO DO DF     \n",
       "3  ATIVO    MAGISTERIO PUBLICO DO DF     \n",
       "4  ATIVO    MAGISTERIO PUBLICO DO DF     \n",
       "\n",
       "                                         Lotacao Data de Admissao  Matricula  \\\n",
       "0  CENTRO INTERESCOLAR DE LINGUAS 02 DE BRASILIA       24/03/2003   20030324   \n",
       "1                                CONVENIO IHGDF        13/01/1993   19930113   \n",
       "2                          ESCOLA CLASSE 416 SUL       08/10/1996   19961008   \n",
       "3              ESCOLA CLASSE 01 DO RIACHO FUNDO        14/04/1992   19920414   \n",
       "4                 ESCOLA CLASSE 62 DE CEILANDIA        06/02/2007   20070206   \n",
       "\n",
       "    Status       Regime        Situacao Funcional  \n",
       "0  NORMAL   ESTATUTARIO  MAGISTERIO (PROFESSOR)    \n",
       "1  NORMAL   ESTATUTARIO  MAGISTERIO (PROFESSOR)    \n",
       "2  NORMAL   ESTATUTARIO  MAGISTERIO (PROFESSOR)    \n",
       "3  NORMAL   ESTATUTARIO  MAGISTERIO (PROFESSOR)    \n",
       "4  NORMAL   ESTATUTARIO  MAGISTERIO (PROFESSOR)    "
      ]
     },
     "execution_count": 4,
     "metadata": {},
     "output_type": "execute_result"
    }
   ],
   "source": [
    "# Mostrando as cinco primeiras linhas do DataFrame\n",
    "df_professor.head()"
   ]
  },
  {
   "cell_type": "code",
   "execution_count": 5,
   "metadata": {},
   "outputs": [
    {
     "name": "stdout",
     "output_type": "stream",
     "text": [
      "(47178, 12)\n"
     ]
    }
   ],
   "source": [
    "# Mostrando quantas linhas e colunas o DataFrame possui\n",
    "print (df_professor.shape)"
   ]
  },
  {
   "cell_type": "code",
   "execution_count": 6,
   "metadata": {},
   "outputs": [
    {
     "data": {
      "text/plain": [
       "Nome                    0\n",
       "Orgao                   0\n",
       "Cargo                 240\n",
       "Funcao                  0\n",
       "Situacao                0\n",
       "Carreira                0\n",
       "Lotacao                 0\n",
       "Data de Admissao        0\n",
       "Matricula               0\n",
       "Status                  0\n",
       "Regime                  0\n",
       "Situacao Funcional      0\n",
       "dtype: int64"
      ]
     },
     "execution_count": 6,
     "metadata": {},
     "output_type": "execute_result"
    }
   ],
   "source": [
    "# Verifica se as colunas posssuem valores nulos.\n",
    "df_professor.isnull().sum()"
   ]
  },
  {
   "cell_type": "code",
   "execution_count": 7,
   "metadata": {},
   "outputs": [
    {
     "data": {
      "text/plain": [
       "0    False\n",
       "1    False\n",
       "2    False\n",
       "3    False\n",
       "4    False\n",
       "Name: Cargo, dtype: bool"
      ]
     },
     "execution_count": 7,
     "metadata": {},
     "output_type": "execute_result"
    }
   ],
   "source": [
    "# Verificando se existe valores nulos em uma determinada coluna e retorna as cinco primeiras linhas\n",
    "df_professor['Cargo'].isnull().head()"
   ]
  },
  {
   "cell_type": "code",
   "execution_count": 8,
   "metadata": {
    "collapsed": true
   },
   "outputs": [],
   "source": [
    "# Criei uma nova variavel para armazenar meu dataframe para não perder informação caso queira trabalhar com outros\n",
    "# Dados. Mas é não obrigatório realizar tal operação\n",
    "new_df_professor = df_professor"
   ]
  },
  {
   "cell_type": "code",
   "execution_count": 9,
   "metadata": {
    "collapsed": true
   },
   "outputs": [],
   "source": [
    "# Limpando dados diretemante no dataframe\n",
    "new_df_professor.drop (['Carreira', 'Data de Admissao', 'Matricula', 'Regime', 'Situacao Funcional'], axis = 1, inplace = True)"
   ]
  },
  {
   "cell_type": "code",
   "execution_count": 10,
   "metadata": {},
   "outputs": [
    {
     "data": {
      "text/plain": [
       "(47178, 7)"
      ]
     },
     "execution_count": 10,
     "metadata": {},
     "output_type": "execute_result"
    }
   ],
   "source": [
    "# Mostrando quantas colunas o novo dataframe possui \n",
    "new_df_professor.shape"
   ]
  },
  {
   "cell_type": "code",
   "execution_count": 11,
   "metadata": {},
   "outputs": [
    {
     "data": {
      "text/html": [
       "<div>\n",
       "<style>\n",
       "    .dataframe thead tr:only-child th {\n",
       "        text-align: right;\n",
       "    }\n",
       "\n",
       "    .dataframe thead th {\n",
       "        text-align: left;\n",
       "    }\n",
       "\n",
       "    .dataframe tbody tr th {\n",
       "        vertical-align: top;\n",
       "    }\n",
       "</style>\n",
       "<table border=\"1\" class=\"dataframe\">\n",
       "  <thead>\n",
       "    <tr style=\"text-align: right;\">\n",
       "      <th></th>\n",
       "      <th>Nome</th>\n",
       "      <th>Orgao</th>\n",
       "      <th>Cargo</th>\n",
       "      <th>Funcao</th>\n",
       "      <th>Situacao</th>\n",
       "      <th>Lotacao</th>\n",
       "      <th>Status</th>\n",
       "    </tr>\n",
       "  </thead>\n",
       "  <tbody>\n",
       "    <tr>\n",
       "      <th>47173</th>\n",
       "      <td>ZULMIRA BISPO SOARES</td>\n",
       "      <td>SECRETARIA DE ESTADO DE EDUCACAO</td>\n",
       "      <td>AGENTE G.E.- SERV GERAIS</td>\n",
       "      <td>PROFESSOR</td>\n",
       "      <td>ATIVO</td>\n",
       "      <td>CENTRO EDUCACIONAL 03 DO GUARA</td>\n",
       "      <td>NORMAL</td>\n",
       "    </tr>\n",
       "    <tr>\n",
       "      <th>47174</th>\n",
       "      <td>ZULMIRA CAETANO SILVA</td>\n",
       "      <td>SECRETARIA DE ESTADO DE EDUCACAO</td>\n",
       "      <td>PROFESSOR DE EDUC. BASICA</td>\n",
       "      <td>PROFESSOR</td>\n",
       "      <td>ATIVO</td>\n",
       "      <td>ESCOLA CLASSE 114 SUL</td>\n",
       "      <td>NORMAL</td>\n",
       "    </tr>\n",
       "    <tr>\n",
       "      <th>47175</th>\n",
       "      <td>ZULMIRA OLIVEIRA BROTAS</td>\n",
       "      <td>SECRETARIA DE ESTADO DE EDUCACAO</td>\n",
       "      <td>TECNICO G.E.- EDUC EM SAUDE</td>\n",
       "      <td>PROFESSOR</td>\n",
       "      <td>ATIVO</td>\n",
       "      <td>UNIDADE REGIONAL DE INFRAESTRUTURA E APOIO EDU...</td>\n",
       "      <td>NORMAL</td>\n",
       "    </tr>\n",
       "    <tr>\n",
       "      <th>47176</th>\n",
       "      <td>ZULMIRA SANTOS DA SILVA</td>\n",
       "      <td>SECRETARIA DE ESTADO DE EDUCACAO</td>\n",
       "      <td>PROFESSOR DE EDUC. BASICA</td>\n",
       "      <td>PROFESSOR</td>\n",
       "      <td>ATIVO</td>\n",
       "      <td>ESCOLA CLASSE 06 DE BRAZLANDIA</td>\n",
       "      <td>NORMAL</td>\n",
       "    </tr>\n",
       "    <tr>\n",
       "      <th>47177</th>\n",
       "      <td>ZURADIA DA SILVA ANSELMO</td>\n",
       "      <td>SECRETARIA DE ESTADO DE EDUCACAO - TEMPORARIO</td>\n",
       "      <td>CONTRATO TEMPORARIO</td>\n",
       "      <td>PROFESSOR</td>\n",
       "      <td>ATIVO</td>\n",
       "      <td>CENTRO DE EDUCACAO INFANTIL DA CANDANGOLANDIA</td>\n",
       "      <td>NORMAL</td>\n",
       "    </tr>\n",
       "  </tbody>\n",
       "</table>\n",
       "</div>"
      ],
      "text/plain": [
       "                             Nome  \\\n",
       "47173        ZULMIRA BISPO SOARES   \n",
       "47174     ZULMIRA CAETANO SILVA     \n",
       "47175     ZULMIRA OLIVEIRA BROTAS   \n",
       "47176     ZULMIRA SANTOS DA SILVA   \n",
       "47177  ZURADIA DA SILVA ANSELMO     \n",
       "\n",
       "                                                 Orgao  \\\n",
       "47173                 SECRETARIA DE ESTADO DE EDUCACAO   \n",
       "47174                 SECRETARIA DE ESTADO DE EDUCACAO   \n",
       "47175                 SECRETARIA DE ESTADO DE EDUCACAO   \n",
       "47176                 SECRETARIA DE ESTADO DE EDUCACAO   \n",
       "47177  SECRETARIA DE ESTADO DE EDUCACAO - TEMPORARIO     \n",
       "\n",
       "                             Cargo     Funcao Situacao  \\\n",
       "47173     AGENTE G.E.- SERV GERAIS  PROFESSOR  ATIVO     \n",
       "47174  PROFESSOR DE EDUC. BASICA    PROFESSOR  ATIVO     \n",
       "47175  TECNICO G.E.- EDUC EM SAUDE  PROFESSOR  ATIVO     \n",
       "47176  PROFESSOR DE EDUC. BASICA    PROFESSOR  ATIVO     \n",
       "47177        CONTRATO TEMPORARIO    PROFESSOR  ATIVO     \n",
       "\n",
       "                                                 Lotacao   Status  \n",
       "47173                     CENTRO EDUCACIONAL 03 DO GUARA  NORMAL   \n",
       "47174                              ESCOLA CLASSE 114 SUL  NORMAL   \n",
       "47175  UNIDADE REGIONAL DE INFRAESTRUTURA E APOIO EDU...  NORMAL   \n",
       "47176                     ESCOLA CLASSE 06 DE BRAZLANDIA  NORMAL   \n",
       "47177      CENTRO DE EDUCACAO INFANTIL DA CANDANGOLANDIA  NORMAL   "
      ]
     },
     "execution_count": 11,
     "metadata": {},
     "output_type": "execute_result"
    }
   ],
   "source": [
    "# Mostrando as cinco últimas linhas  do dataframe e como o mesmo ficou depois que foi realizada a limpeza de alguns \n",
    "# dados que neste primeiro momento não será tão relevante.\n",
    "new_df_professor.tail()"
   ]
  },
  {
   "cell_type": "code",
   "execution_count": 12,
   "metadata": {
    "collapsed": true
   },
   "outputs": [],
   "source": [
    "# O comando replace foi realizado devido ao dataframe possuir alguns espaços em brancos, prejudicando a \n",
    "# continuidade do projeto.\n",
    "#new_df_professor['Funcao'] = new_df_professor['Funcao'].replace(\" \", \"\") # Outra maneira de replace\n",
    "new_df_professor['Funcao'] = new_df_professor['Funcao'].str.replace(\" \", \"\")"
   ]
  },
  {
   "cell_type": "code",
   "execution_count": 13,
   "metadata": {},
   "outputs": [
    {
     "data": {
      "image/png": "[encoded data removed]",
      "text/plain": [
       "<matplotlib.figure.Figure at 0x11bdd9ef0>"
      ]
     },
     "metadata": {},
     "output_type": "display_data"
    }
   ],
   "source": [
    "# Percorre toda a coluna contando a quantidade de cada elemento e retornando o indice no final\n",
    "num  = len(new_df_professor.Funcao.value_counts().index)\n",
    "\n",
    "# Gera as cores do gráfico\n",
    "listaHSV = [(x*1.0/num, 0.5, 0.5) for x in range (num)]\n",
    "listaRGB = list (map(lambda x: colorsys.hsv_to_rgb(*x), listaHSV))\n",
    "labels = new_df_professor.Funcao.value_counts().index\n",
    "\n",
    "# Configura o gráfico e após o mesmo é gerando\n",
    "fatias, texto = plt.pie(new_df_professor.Funcao.value_counts(), colors = listaRGB, startangle = 90)\n",
    "plt.axes().set_aspect ('equal', 'datalim')\n",
    "plt.legend (fatias, labels, bbox_to_anchor = (1.25, 1))\n",
    "plt.title ('Quantidade de Servidores por Funcão')\n",
    "plt.show()"
   ]
  },
  {
   "cell_type": "code",
   "execution_count": 14,
   "metadata": {
    "scrolled": true
   },
   "outputs": [
    {
     "data": {
      "image/png": "[encoded data removed]",
      "text/plain": [
       "<matplotlib.figure.Figure at 0x11bdd99e8>"
      ]
     },
     "metadata": {},
     "output_type": "display_data"
    }
   ],
   "source": [
    "# Contagem rápida de servidores por função e plotando o resultado da contagem em forma de gráfico\n",
    "conta_funcao = new_df_professor['Funcao'].value_counts().head(5)\n",
    "conta_funcao.plot (kind = 'barh', figsize = (9, 5), color = \"Blue\")\n",
    "\n",
    "# Configurando os títulos do gráfico\n",
    "plt.title ('Funções da Secretaria de Educação do Distrito Federal')\n",
    "plt.xlabel ('Quantidade de Servidores')\n",
    "plt.ylabel ('Funções')\n",
    "plt.show()\n"
   ]
  },
  {
   "cell_type": "code",
   "execution_count": 15,
   "metadata": {
    "collapsed": true
   },
   "outputs": [],
   "source": [
    "# Retorna a quantidade de servidor por função.\n",
    "#new_df_professor['Funcao'].value_counts() "
   ]
  },
  {
   "cell_type": "code",
   "execution_count": 16,
   "metadata": {
    "collapsed": true
   },
   "outputs": [],
   "source": [
    "# Realiza busca na coluna da palavra \"X\" retornado quantas vezes a mesma palavra se repete\n",
    " \n",
    "#ct = 0\n",
    "#for busca in new_df_professor['Funcao']:\n",
    "#    if busca in 'DIRETOR':\n",
    "#        ct += 1\n",
    "\n",
    "#print ('Total de Diretor: ', ct)"
   ]
  },
  {
   "cell_type": "code",
   "execution_count": 17,
   "metadata": {},
   "outputs": [
    {
     "name": "stdout",
     "output_type": "stream",
     "text": [
      "Quantidade de diretor: 699 \n",
      "Quantidade de vice-diretor: 659\n"
     ]
    }
   ],
   "source": [
    "# Uma forma mais simples de fazer o metodo anterior\n",
    "# Realiza busca na coluna da palavra \"X\" retornado quantas vezes a mesma palavra se repete\n",
    "quantidade_diretor = new_df_professor['Funcao'][new_df_professor['Funcao'] == 'DIRETOR'].value_counts()\n",
    "quantidade_vice_diretor = new_df_professor['Funcao'][new_df_professor['Funcao'] == 'VICE-DIRETOR'].value_counts()\n",
    "\n",
    "print ('Quantidade de diretor: %d \\nQuantidade de vice-diretor: %d' % (quantidade_diretor, quantidade_vice_diretor))"
   ]
  },
  {
   "cell_type": "code",
   "execution_count": 18,
   "metadata": {},
   "outputs": [
    {
     "data": {
      "text/html": [
       "<div>\n",
       "<style>\n",
       "    .dataframe thead tr:only-child th {\n",
       "        text-align: right;\n",
       "    }\n",
       "\n",
       "    .dataframe thead th {\n",
       "        text-align: left;\n",
       "    }\n",
       "\n",
       "    .dataframe tbody tr th {\n",
       "        vertical-align: top;\n",
       "    }\n",
       "</style>\n",
       "<table border=\"1\" class=\"dataframe\">\n",
       "  <thead>\n",
       "    <tr style=\"text-align: right;\">\n",
       "      <th></th>\n",
       "      <th>Nome</th>\n",
       "      <th>Orgao</th>\n",
       "      <th>Cargo</th>\n",
       "      <th>Funcao</th>\n",
       "      <th>Situacao</th>\n",
       "      <th>Lotacao</th>\n",
       "      <th>Status</th>\n",
       "    </tr>\n",
       "  </thead>\n",
       "  <tbody>\n",
       "    <tr>\n",
       "      <th>0</th>\n",
       "      <td>ADRIANA ARAUJO DE SANTANA MARQUES DA SILVA</td>\n",
       "      <td>SECRETARIA DE ESTADO DE EDUCACAO</td>\n",
       "      <td>PROFESSOR DE EDUC. BASICA</td>\n",
       "      <td>PROFESSOR</td>\n",
       "      <td>ATIVO</td>\n",
       "      <td>CENTRO INTERESCOLAR DE LINGUAS 02 DE BRASILIA</td>\n",
       "      <td>NORMAL</td>\n",
       "    </tr>\n",
       "    <tr>\n",
       "      <th>1</th>\n",
       "      <td>ALCIDEA VIEIRA COELHO</td>\n",
       "      <td>SECRETARIA DE ESTADO DE EDUCACAO</td>\n",
       "      <td>PROFESSOR DE EDUC. BASICA</td>\n",
       "      <td>PROFESSOR</td>\n",
       "      <td>ATIVO</td>\n",
       "      <td>CONVENIO IHGDF</td>\n",
       "      <td>NORMAL</td>\n",
       "    </tr>\n",
       "    <tr>\n",
       "      <th>2</th>\n",
       "      <td>ANDRESSA CARNEIRO LOPES</td>\n",
       "      <td>SECRETARIA DE ESTADO DE EDUCACAO</td>\n",
       "      <td>PROFESSOR DE EDUC. BASICA</td>\n",
       "      <td>PROFESSOR</td>\n",
       "      <td>ATIVO</td>\n",
       "      <td>ESCOLA CLASSE 416 SUL</td>\n",
       "      <td>NORMAL</td>\n",
       "    </tr>\n",
       "    <tr>\n",
       "      <th>3</th>\n",
       "      <td>CELIA MEDEIROS SCHNEIDER</td>\n",
       "      <td>SECRETARIA DE ESTADO DE EDUCACAO</td>\n",
       "      <td>PROFESSOR DE EDUC. BASICA</td>\n",
       "      <td>PROFESSOR</td>\n",
       "      <td>ATIVO</td>\n",
       "      <td>ESCOLA CLASSE 01 DO RIACHO FUNDO</td>\n",
       "      <td>NORMAL</td>\n",
       "    </tr>\n",
       "    <tr>\n",
       "      <th>4</th>\n",
       "      <td>CIBELY FARIA</td>\n",
       "      <td>SECRETARIA DE ESTADO DE EDUCACAO</td>\n",
       "      <td>PROFESSOR DE EDUC. BASICA</td>\n",
       "      <td>PROFESSOR</td>\n",
       "      <td>ATIVO</td>\n",
       "      <td>ESCOLA CLASSE 62 DE CEILANDIA</td>\n",
       "      <td>NORMAL</td>\n",
       "    </tr>\n",
       "  </tbody>\n",
       "</table>\n",
       "</div>"
      ],
      "text/plain": [
       "                                           Nome  \\\n",
       "0   ADRIANA ARAUJO DE SANTANA MARQUES DA SILVA    \n",
       "1                        ALCIDEA VIEIRA COELHO    \n",
       "2                     ANDRESSA CARNEIRO LOPES     \n",
       "3                     CELIA MEDEIROS SCHNEIDER    \n",
       "4                                 CIBELY FARIA    \n",
       "\n",
       "                              Orgao                        Cargo     Funcao  \\\n",
       "0  SECRETARIA DE ESTADO DE EDUCACAO  PROFESSOR DE EDUC. BASICA    PROFESSOR   \n",
       "1  SECRETARIA DE ESTADO DE EDUCACAO  PROFESSOR DE EDUC. BASICA    PROFESSOR   \n",
       "2  SECRETARIA DE ESTADO DE EDUCACAO  PROFESSOR DE EDUC. BASICA    PROFESSOR   \n",
       "3  SECRETARIA DE ESTADO DE EDUCACAO  PROFESSOR DE EDUC. BASICA    PROFESSOR   \n",
       "4  SECRETARIA DE ESTADO DE EDUCACAO  PROFESSOR DE EDUC. BASICA    PROFESSOR   \n",
       "\n",
       "  Situacao                                        Lotacao   Status  \n",
       "0  ATIVO    CENTRO INTERESCOLAR DE LINGUAS 02 DE BRASILIA  NORMAL   \n",
       "1  ATIVO                                  CONVENIO IHGDF   NORMAL   \n",
       "2  ATIVO                            ESCOLA CLASSE 416 SUL  NORMAL   \n",
       "3  ATIVO                ESCOLA CLASSE 01 DO RIACHO FUNDO   NORMAL   \n",
       "4  ATIVO                   ESCOLA CLASSE 62 DE CEILANDIA   NORMAL   "
      ]
     },
     "execution_count": 18,
     "metadata": {},
     "output_type": "execute_result"
    }
   ],
   "source": [
    "new_df_professor.head()"
   ]
  },
  {
   "cell_type": "code",
   "execution_count": 19,
   "metadata": {},
   "outputs": [
    {
     "data": {
      "text/plain": [
       "NORMAL              44367\n",
       "AFASTADO             2080\n",
       "CEDIDO                373\n",
       "REQUISITADO           146\n",
       "INCLUIDO NO MES       114\n",
       "DESLIGADO NO MES       50\n",
       "DESLIGADO              47\n",
       "POSSE                   1\n",
       "Name: Status, dtype: int64"
      ]
     },
     "execution_count": 19,
     "metadata": {},
     "output_type": "execute_result"
    }
   ],
   "source": [
    "new_df_professor['Status'].value_counts()"
   ]
  },
  {
   "cell_type": "code",
   "execution_count": 20,
   "metadata": {
    "collapsed": true
   },
   "outputs": [],
   "source": [
    "new_df_professor['Status'] = new_df_professor['Status'].str.replace(\" \", \"\")\n",
    "new_df_professor['Situacao'] = new_df_professor['Situacao'].str.replace(\" \", \"\")"
   ]
  },
  {
   "cell_type": "code",
   "execution_count": 21,
   "metadata": {
    "collapsed": true
   },
   "outputs": [],
   "source": [
    "def cor_status (x):\n",
    "    \n",
    "    if x == 'NORMAL':\n",
    "        return 0\n",
    "    \n",
    "    elif x == 'AFASTADO':\n",
    "        return 1\n",
    "    \n",
    "    elif x == 'CEDIDO':\n",
    "        return 2\n",
    "    \n",
    "    elif x == 'REQUISITADO':\n",
    "        return 3\n",
    "    \n",
    "    elif x == 'INCLUIDO NO MES':\n",
    "        return 4\n",
    "    \n",
    "    elif x == 'DESLIGADO NO MES':\n",
    "        return 5\n",
    "    \n",
    "    elif x == 'DESLIGADO':\n",
    "        return 6\n",
    "    \n",
    "    else:\n",
    "        return 7"
   ]
  },
  {
   "cell_type": "code",
   "execution_count": 27,
   "metadata": {
    "collapsed": true
   },
   "outputs": [],
   "source": [
    "def situa (y):\n",
    "    \n",
    "    if y == 'ATIVO':\n",
    "        return 1"
   ]
  },
  {
   "cell_type": "code",
   "execution_count": 28,
   "metadata": {
    "collapsed": true
   },
   "outputs": [],
   "source": [
    "new_df_professor['Situacao Num'] = new_df_professor['Situacao'].apply(situa)"
   ]
  },
  {
   "cell_type": "code",
   "execution_count": 26,
   "metadata": {},
   "outputs": [
    {
     "data": {
      "text/plain": [
       "ATIVO    47178\n",
       "Name: Situacao, dtype: int64"
      ]
     },
     "execution_count": 26,
     "metadata": {},
     "output_type": "execute_result"
    }
   ],
   "source": [
    "new_df_professor['Situacao'].value_counts()"
   ]
  },
  {
   "cell_type": "code",
   "execution_count": 22,
   "metadata": {
    "collapsed": true
   },
   "outputs": [],
   "source": [
    "new_df_professor['Number Cor'] = new_df_professor['Status'].apply(cor_status)"
   ]
  },
  {
   "cell_type": "code",
   "execution_count": 29,
   "metadata": {},
   "outputs": [
    {
     "data": {
      "text/html": [
       "<div>\n",
       "<style>\n",
       "    .dataframe thead tr:only-child th {\n",
       "        text-align: right;\n",
       "    }\n",
       "\n",
       "    .dataframe thead th {\n",
       "        text-align: left;\n",
       "    }\n",
       "\n",
       "    .dataframe tbody tr th {\n",
       "        vertical-align: top;\n",
       "    }\n",
       "</style>\n",
       "<table border=\"1\" class=\"dataframe\">\n",
       "  <thead>\n",
       "    <tr style=\"text-align: right;\">\n",
       "      <th></th>\n",
       "      <th>Nome</th>\n",
       "      <th>Orgao</th>\n",
       "      <th>Cargo</th>\n",
       "      <th>Funcao</th>\n",
       "      <th>Situacao</th>\n",
       "      <th>Lotacao</th>\n",
       "      <th>Status</th>\n",
       "      <th>Number Cor</th>\n",
       "      <th>Situacao Num</th>\n",
       "    </tr>\n",
       "  </thead>\n",
       "  <tbody>\n",
       "    <tr>\n",
       "      <th>0</th>\n",
       "      <td>ADRIANA ARAUJO DE SANTANA MARQUES DA SILVA</td>\n",
       "      <td>SECRETARIA DE ESTADO DE EDUCACAO</td>\n",
       "      <td>PROFESSOR DE EDUC. BASICA</td>\n",
       "      <td>PROFESSOR</td>\n",
       "      <td>ATIVO</td>\n",
       "      <td>CENTRO INTERESCOLAR DE LINGUAS 02 DE BRASILIA</td>\n",
       "      <td>NORMAL</td>\n",
       "      <td>0</td>\n",
       "      <td>1</td>\n",
       "    </tr>\n",
       "    <tr>\n",
       "      <th>1</th>\n",
       "      <td>ALCIDEA VIEIRA COELHO</td>\n",
       "      <td>SECRETARIA DE ESTADO DE EDUCACAO</td>\n",
       "      <td>PROFESSOR DE EDUC. BASICA</td>\n",
       "      <td>PROFESSOR</td>\n",
       "      <td>ATIVO</td>\n",
       "      <td>CONVENIO IHGDF</td>\n",
       "      <td>NORMAL</td>\n",
       "      <td>0</td>\n",
       "      <td>1</td>\n",
       "    </tr>\n",
       "    <tr>\n",
       "      <th>2</th>\n",
       "      <td>ANDRESSA CARNEIRO LOPES</td>\n",
       "      <td>SECRETARIA DE ESTADO DE EDUCACAO</td>\n",
       "      <td>PROFESSOR DE EDUC. BASICA</td>\n",
       "      <td>PROFESSOR</td>\n",
       "      <td>ATIVO</td>\n",
       "      <td>ESCOLA CLASSE 416 SUL</td>\n",
       "      <td>NORMAL</td>\n",
       "      <td>0</td>\n",
       "      <td>1</td>\n",
       "    </tr>\n",
       "    <tr>\n",
       "      <th>3</th>\n",
       "      <td>CELIA MEDEIROS SCHNEIDER</td>\n",
       "      <td>SECRETARIA DE ESTADO DE EDUCACAO</td>\n",
       "      <td>PROFESSOR DE EDUC. BASICA</td>\n",
       "      <td>PROFESSOR</td>\n",
       "      <td>ATIVO</td>\n",
       "      <td>ESCOLA CLASSE 01 DO RIACHO FUNDO</td>\n",
       "      <td>NORMAL</td>\n",
       "      <td>0</td>\n",
       "      <td>1</td>\n",
       "    </tr>\n",
       "    <tr>\n",
       "      <th>4</th>\n",
       "      <td>CIBELY FARIA</td>\n",
       "      <td>SECRETARIA DE ESTADO DE EDUCACAO</td>\n",
       "      <td>PROFESSOR DE EDUC. BASICA</td>\n",
       "      <td>PROFESSOR</td>\n",
       "      <td>ATIVO</td>\n",
       "      <td>ESCOLA CLASSE 62 DE CEILANDIA</td>\n",
       "      <td>NORMAL</td>\n",
       "      <td>0</td>\n",
       "      <td>1</td>\n",
       "    </tr>\n",
       "  </tbody>\n",
       "</table>\n",
       "</div>"
      ],
      "text/plain": [
       "                                           Nome  \\\n",
       "0   ADRIANA ARAUJO DE SANTANA MARQUES DA SILVA    \n",
       "1                        ALCIDEA VIEIRA COELHO    \n",
       "2                     ANDRESSA CARNEIRO LOPES     \n",
       "3                     CELIA MEDEIROS SCHNEIDER    \n",
       "4                                 CIBELY FARIA    \n",
       "\n",
       "                              Orgao                        Cargo     Funcao  \\\n",
       "0  SECRETARIA DE ESTADO DE EDUCACAO  PROFESSOR DE EDUC. BASICA    PROFESSOR   \n",
       "1  SECRETARIA DE ESTADO DE EDUCACAO  PROFESSOR DE EDUC. BASICA    PROFESSOR   \n",
       "2  SECRETARIA DE ESTADO DE EDUCACAO  PROFESSOR DE EDUC. BASICA    PROFESSOR   \n",
       "3  SECRETARIA DE ESTADO DE EDUCACAO  PROFESSOR DE EDUC. BASICA    PROFESSOR   \n",
       "4  SECRETARIA DE ESTADO DE EDUCACAO  PROFESSOR DE EDUC. BASICA    PROFESSOR   \n",
       "\n",
       "  Situacao                                        Lotacao  Status  Number Cor  \\\n",
       "0    ATIVO  CENTRO INTERESCOLAR DE LINGUAS 02 DE BRASILIA  NORMAL           0   \n",
       "1    ATIVO                                CONVENIO IHGDF   NORMAL           0   \n",
       "2    ATIVO                          ESCOLA CLASSE 416 SUL  NORMAL           0   \n",
       "3    ATIVO              ESCOLA CLASSE 01 DO RIACHO FUNDO   NORMAL           0   \n",
       "4    ATIVO                 ESCOLA CLASSE 62 DE CEILANDIA   NORMAL           0   \n",
       "\n",
       "   Situacao Num  \n",
       "0             1  \n",
       "1             1  \n",
       "2             1  \n",
       "3             1  \n",
       "4             1  "
      ]
     },
     "execution_count": 29,
     "metadata": {},
     "output_type": "execute_result"
    }
   ],
   "source": [
    "new_df_professor.head()"
   ]
  },
  {
   "cell_type": "code",
   "execution_count": 36,
   "metadata": {},
   "outputs": [
    {
     "data": {
      "image/png": "[encoded data removed]",
      "text/plain": [
       "<matplotlib.figure.Figure at 0x11e4fb828>"
      ]
     },
     "metadata": {},
     "output_type": "display_data"
    }
   ],
   "source": [
    "plt.scatter (\n",
    "        new_df_professor['Situacao Num'], new_df_professor['Number Cor'],\n",
    "        c = new_df_professor['Number Cor'], cmap = 'viridis', alpha = 0.4    \n",
    ")\n",
    "\n",
    "plt.show()"
   ]
  }
 ],
 "metadata": {
  "kernelspec": {
   "display_name": "Python 3",
   "language": "python",
   "name": "python3"
  },
  "language_info": {
   "codemirror_mode": {
    "name": "ipython",
    "version": 3
   },
   "file_extension": ".py",
   "mimetype": "text/x-python",
   "name": "python",
   "nbconvert_exporter": "python",
   "pygments_lexer": "ipython3",
   "version": "3.6.1"
  }
 },
 "nbformat": 4,
 "nbformat_minor": 2
}
